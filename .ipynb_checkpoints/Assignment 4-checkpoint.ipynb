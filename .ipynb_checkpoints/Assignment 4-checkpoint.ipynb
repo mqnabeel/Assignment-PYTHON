{
 "cells": [
  {
   "cell_type": "code",
   "execution_count": 4,
   "metadata": {},
   "outputs": [
    {
     "name": "stdout",
     "output_type": "stream",
     "text": [
      "{'first_name': 'Maaz', 'last_name': 'Ali', 'age': '21', 'city': 'hyderabad'}\n",
      "{'first_name': 'Maaz', 'last_name': 'Ali', 'age': '21', 'city': 'hyderabad', 'qualification': 'High academic level'}\n",
      "{'first_name': 'Maaz', 'last_name': 'Ali', 'age': '21', 'city': 'hyderabad'}\n"
     ]
    }
   ],
   "source": [
    "person = {\n",
    "    \"first_name\":\"Maaz\",\n",
    "    \"last_name\":\"Ali\",\n",
    "    \"age\":\"21\",\n",
    "    \"city\":\"hyderabad\"\n",
    "    }\n",
    "print(person)\n",
    "\n",
    "person['qualification']='High academic level'\n",
    "\n",
    "print(person)\n",
    "\n",
    "del person['qualification']\n",
    "\n",
    "print(person)"
   ]
  },
  {
   "cell_type": "code",
   "execution_count": 6,
   "metadata": {},
   "outputs": [
    {
     "name": "stdout",
     "output_type": "stream",
     "text": [
      "{'hyderabad': {'counntry': 'pakistan', 'population': '1.733 million', 'fact': 'hawaon ka shehar'}, 'kaarachi': {'counntry': 'pakistan', 'population': '14.91 million', 'fact': 'largest city'}, 'islamabad': {'counntry': 'pakistan', 'population': '1.015 million', 'fact': 'Tourism'}}\n"
     ]
    }
   ],
   "source": [
    "city ={\n",
    "    \"hyderabad\":{  \n",
    "                    \"counntry\":\"pakistan\",\n",
    "                    \"population\":\"1.733 million\",\n",
    "                    \"fact\":\"hawaon ka shehar\"\n",
    "                },\n",
    "    \"kaarachi\":{  \n",
    "                    \"counntry\":\"pakistan\",\n",
    "                    \"population\":\"14.91 million\",\n",
    "                    \"fact\":\"largest city\"\n",
    "                },\n",
    "    \"islamabad\":{  \n",
    "                    \"counntry\":\"pakistan\",\n",
    "                    \"population\":\"1.015 million\",\n",
    "                    \"fact\":\"Tourism\"\n",
    "                }\n",
    "    }\n",
    "print(city)"
   ]
  },
  {
   "cell_type": "code",
   "execution_count": 7,
   "metadata": {},
   "outputs": [
    {
     "name": "stdout",
     "output_type": "stream",
     "text": [
      "How old are you?\n",
      "Enter 'quit' when you are finished. 21\n",
      "  Your ticket is $15.\n",
      "How old are you?\n",
      "Enter 'quit' when you are finished. 3\n",
      "  Your ticket is $10.\n",
      "How old are you?\n",
      "Enter 'quit' when you are finished. 4\n",
      "  Your ticket is $10.\n",
      "How old are you?\n",
      "Enter 'quit' when you are finished. quit\n"
     ]
    }
   ],
   "source": [
    "prompt = \"How old are you?\"\n",
    "prompt += \"\\nEnter 'quit' when you are finished. \"\n",
    "\n",
    "while True:\n",
    "    age = input(prompt)\n",
    "    if age == 'quit':\n",
    "        break\n",
    "    age = int(age)\n",
    "\n",
    "    if age < 3:\n",
    "        print(\"free!\")\n",
    "    elif age < 13:\n",
    "        print(\"  Your ticket is $10.\")\n",
    "    else:\n",
    "        print(\"  Your ticket is $15.\")"
   ]
  },
  {
   "cell_type": "code",
   "execution_count": 20,
   "metadata": {},
   "outputs": [
    {
     "name": "stdout",
     "output_type": "stream",
     "text": [
      "One of my favorite books is Alice in Wonderland\n"
     ]
    }
   ],
   "source": [
    "def favourite_book(title):\n",
    "        print(\"One of my favorite books is Alice in Wonderland\")\n",
    "favourite_book(\"Alice in Wonderland\")"
   ]
  },
  {
   "cell_type": "code",
   "execution_count": 25,
   "metadata": {},
   "outputs": [
    {
     "name": "stdout",
     "output_type": "stream",
     "text": [
      "Input a number b/w 1 to 30 7\n",
      "Your guess is smaller!\n",
      "Input a number b/w 1 to 30 10\n",
      "Your guess is greater!\n",
      "Input a number b/w 1 to 30 9\n",
      "Well played!\n"
     ]
    }
   ],
   "source": [
    "import random\n",
    "target=(random.randint(1,30))\n",
    "life=0\n",
    "while life < 3:\n",
    "    guess=int(input(\"Input a number b/w 1 to 30 \"))\n",
    "    life=life+1\n",
    "    if guess==target:\n",
    "        print(\"Well played!\")\n",
    "    elif guess > target:\n",
    "        print(\"Your guess is greater!\")\n",
    "    elif guess < target:\n",
    "        print(\"Your guess is smaller!\")\n",
    "    "
   ]
  },
  {
   "cell_type": "code",
   "execution_count": null,
   "metadata": {},
   "outputs": [],
   "source": []
  },
  {
   "cell_type": "code",
   "execution_count": null,
   "metadata": {},
   "outputs": [],
   "source": []
  }
 ],
 "metadata": {
  "kernelspec": {
   "display_name": "Python 3",
   "language": "python",
   "name": "python3"
  },
  "language_info": {
   "codemirror_mode": {
    "name": "ipython",
    "version": 3
   },
   "file_extension": ".py",
   "mimetype": "text/x-python",
   "name": "python",
   "nbconvert_exporter": "python",
   "pygments_lexer": "ipython3",
   "version": "3.7.4"
  }
 },
 "nbformat": 4,
 "nbformat_minor": 2
}
