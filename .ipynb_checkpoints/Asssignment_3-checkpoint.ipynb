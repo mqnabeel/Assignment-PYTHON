{
 "cells": [
  {
   "cell_type": "code",
   "execution_count": 5,
   "metadata": {},
   "outputs": [
    {
     "name": "stdout",
     "output_type": "stream",
     "text": [
      "enter first value :2\n",
      "enter second value :4\n",
      "enter operation to be done '+' '-' '*' '/' '^' ^\n",
      "16\n"
     ]
    }
   ],
   "source": [
    "var=int(input(\"enter first value :\"))\n",
    "var1=int(input(\"enter second value :\"))\n",
    "op =input(\"enter operation to be done '+' '-' '*' '/' '^' \")\n",
    "if op=='+':\n",
    "    total=var+var1\n",
    "elif op=='-':\n",
    "    total=var-var1\n",
    "elif op=='*':\n",
    "    total=var*var1\n",
    "elif op=='/':\n",
    "    total=var/var1\n",
    "elif op=='^':\n",
    "    total=var**var1\n",
    "print(total)"
   ]
  },
  {
   "cell_type": "code",
   "execution_count": 13,
   "metadata": {},
   "outputs": [
    {
     "name": "stdout",
     "output_type": "stream",
     "text": [
      "yes their is numeric value.\n"
     ]
    }
   ],
   "source": [
    "list=[23,32,'ds',233,'3fsd',23]\n",
    "for num in list: \n",
    "    if num>= 0: \n",
    "       print(\"yes their is numeric value.\")\n",
    "    break"
   ]
  },
  {
   "cell_type": "code",
   "execution_count": 22,
   "metadata": {},
   "outputs": [
    {
     "name": "stdout",
     "output_type": "stream",
     "text": [
      "{'name': 'nabeel', 'f.name': 'naeem'}\n",
      "{'name': 'nabeel', 'f.name': 'naeem', 'city': 'hyd'}\n"
     ]
    }
   ],
   "source": [
    "dic={\"name\":\"nabeel\",\"f.name\":\"naeem\"}\n",
    "print(dic)\n",
    "dic.update({\"city\":\"hyd\"})\n",
    "print(dic)"
   ]
  },
  {
   "cell_type": "code",
   "execution_count": 23,
   "metadata": {},
   "outputs": [
    {
     "name": "stdout",
     "output_type": "stream",
     "text": [
      "4016\n"
     ]
    }
   ],
   "source": [
    "dict = {'item1':29,'item2':500,'item3':3487}\n",
    "print(sum(dict.values()))"
   ]
  },
  {
   "cell_type": "code",
   "execution_count": 25,
   "metadata": {},
   "outputs": [
    {
     "name": "stdout",
     "output_type": "stream",
     "text": [
      "[3, 9, 12]\n"
     ]
    }
   ],
   "source": [
    "lst = [ 3, 6, 9, 12, 3, 30, 15, 9, 45, 36, 12, 12]\n",
    "dupItems = []\n",
    "uniqItems = {}\n",
    "for x in lst:\n",
    "   if x not in uniqItems:\n",
    "      uniqItems[x] = 1\n",
    "   else:\n",
    "      if uniqItems[x] == 1:\n",
    "         dupItems.append(x)\n",
    "      uniqItems[x] += 1\n",
    "print(dupItems)"
   ]
  },
  {
   "cell_type": "code",
   "execution_count": 30,
   "metadata": {},
   "outputs": [
    {
     "name": "stdout",
     "output_type": "stream",
     "text": [
      "enter key :4\n"
     ]
    }
   ],
   "source": [
    "d = {1: 10, 2: 20, 3: 30, 4: 40, 5: 50, 6: 60}\n",
    "def is_key_present(x):\n",
    "  if x in d:\n",
    "      print('Key is present in the dictionary')\n",
    "  else:\n",
    "      print('Key is not present in the dictionary')\n",
    "is_key_present(5)\n",
    "is_key_present(9)\n",
    "is_key_present(8)\n",
    "is_key_present(10)"
   ]
  },
  {
   "cell_type": "code",
   "execution_count": null,
   "metadata": {},
   "outputs": [],
   "source": []
  }
 ],
 "metadata": {
  "kernelspec": {
   "display_name": "Python 3",
   "language": "python",
   "name": "python3"
  },
  "language_info": {
   "codemirror_mode": {
    "name": "ipython",
    "version": 3
   },
   "file_extension": ".py",
   "mimetype": "text/x-python",
   "name": "python",
   "nbconvert_exporter": "python",
   "pygments_lexer": "ipython3",
   "version": "3.7.4"
  }
 },
 "nbformat": 4,
 "nbformat_minor": 2
}
