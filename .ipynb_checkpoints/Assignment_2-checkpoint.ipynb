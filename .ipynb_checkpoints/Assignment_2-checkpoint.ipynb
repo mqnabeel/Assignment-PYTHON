{
 "cells": [
  {
   "cell_type": "code",
   "execution_count": 8,
   "metadata": {},
   "outputs": [
    {
     "name": "stdout",
     "output_type": "stream",
     "text": [
      "Enter data science marks : 50\n",
      "Enter search engine optimization marks : 54\n",
      "Enter Web designing marks : 45\n",
      "Enter Application designing marks : 56\n",
      "Enter web development marks : 65\n",
      "you got c grade\n"
     ]
    }
   ],
   "source": [
    "ds = int(input(\"Enter data science marks : \"))\n",
    "seo = int(input(\"Enter search engine optimization marks : \"))\n",
    "web = int(input(\"Enter Web designing marks : \"))\n",
    "app = int(input(\"Enter Application designing marks : \"))\n",
    "webd = int(input(\"Enter web development marks : \"))\n",
    "\n",
    "total =ds+seo+web+app+webd\n",
    "per =total*100/500\n",
    "\n",
    "if per>=80:\n",
    "    print(\"you got A+ grade\")\n",
    "\n",
    "elif per>=70:\n",
    "    print(\"you got A grade\")\n",
    "\n",
    "elif per>=60:\n",
    "    print(\"you got B grade\")\n",
    "\n",
    "elif per>=50:\n",
    "    print(\"you got c grade\")\n",
    "\n",
    "elif per>=40:\n",
    "     print(\"you got d grade\")\n",
    "\n",
    "elif per<40:\n",
    "     print(\"you Failed\")"
   ]
  },
  {
   "cell_type": "code",
   "execution_count": 13,
   "metadata": {},
   "outputs": [
    {
     "name": "stdout",
     "output_type": "stream",
     "text": [
      "Enter value :21\n",
      "21 Number is odd!\n"
     ]
    }
   ],
   "source": [
    "var = int(input(\"Enter value :\"))\n",
    "if var%2==0:\n",
    "    print(var,\" Number is even!\")\n",
    "else:\n",
    "    print(var,\"Number is odd!\")"
   ]
  },
  {
   "cell_type": "code",
   "execution_count": 18,
   "metadata": {},
   "outputs": [
    {
     "name": "stdout",
     "output_type": "stream",
     "text": [
      "list length 6\n"
     ]
    }
   ],
   "source": [
    "list = ['ds','web','app',213,32,323]\n",
    "print (\"list length\", len(list))"
   ]
  },
  {
   "cell_type": "code",
   "execution_count": 27,
   "metadata": {},
   "outputs": [
    {
     "name": "stdout",
     "output_type": "stream",
     "text": [
      "sum of list 2966\n"
     ]
    }
   ],
   "source": [
    "list =[12,34,55,66,454,2345]\n",
    "plus =list[0]+list[1]+list[2]+list[3]+list[4]+list[5]\n",
    "\n",
    "print(\"sum of list\",sum(list))"
   ]
  },
  {
   "cell_type": "code",
   "execution_count": 28,
   "metadata": {},
   "outputs": [
    {
     "name": "stdout",
     "output_type": "stream",
     "text": [
      "Largest element is: 89\n"
     ]
    }
   ],
   "source": [
    "list = [1, 1, 2, 3, 5, 8, 13, 21, 34, 55, 89]\n",
    "print(\"Largest element is:\", max(list))"
   ]
  },
  {
   "cell_type": "code",
   "execution_count": 31,
   "metadata": {},
   "outputs": [
    {
     "name": "stdout",
     "output_type": "stream",
     "text": [
      "1\n",
      "1\n",
      "2\n",
      "3\n",
      "5\n"
     ]
    }
   ],
   "source": [
    "a = [1, 1, 2, 3, 5, 8, 13, 21, 34, 55, 89]\n",
    "if list[0]<=5:\n",
    "    print(list[0])\n",
    "if list[1]<=5:\n",
    "    print(list[1])\n",
    "if list[2]<=5:\n",
    "    print(list[2])\n",
    "if list[3]<=5:\n",
    "    print(list[3])\n",
    "if list[4]<=5:\n",
    "    print(list[4])\n",
    "if list[5]<=5:\n",
    "    print(list[5])\n",
    "if list[6]<=5:\n",
    "    print(list[6])\n",
    "if list[7]<=5:\n",
    "    print(list[7])\n",
    "if list[8]<=5:\n",
    "    print(list[8])\n",
    "if list[9]<=5:\n",
    "    print(l,ist[9])\n",
    "if list[10]<=5:\n",
    "    print(list[10])"
   ]
  },
  {
   "cell_type": "code",
   "execution_count": null,
   "metadata": {},
   "outputs": [],
   "source": []
  }
 ],
 "metadata": {
  "kernelspec": {
   "display_name": "Python 3",
   "language": "python",
   "name": "python3"
  },
  "language_info": {
   "codemirror_mode": {
    "name": "ipython",
    "version": 3
   },
   "file_extension": ".py",
   "mimetype": "text/x-python",
   "name": "python",
   "nbconvert_exporter": "python",
   "pygments_lexer": "ipython3",
   "version": "3.7.4"
  }
 },
 "nbformat": 4,
 "nbformat_minor": 2
}
